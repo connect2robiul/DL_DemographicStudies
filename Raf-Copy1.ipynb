{
 "cells": [
  {
   "cell_type": "code",
   "execution_count": null,
   "metadata": {
    "colab_type": "text",
    "id": "view-in-github"
   },
   "outputs": [],
   "source": []
  },
  {
   "cell_type": "code",
   "execution_count": null,
   "metadata": {
    "colab": {
     "base_uri": "https://localhost:8080/",
     "height": 97
    },
    "colab_type": "code",
    "id": "a9prFT_NVI_N",
    "outputId": "69987ee5-a75c-45e7-dfeb-4b4f6b4fa040"
   },
   "outputs": [],
   "source": []
  },
  {
   "cell_type": "code",
   "execution_count": null,
   "metadata": {
    "colab": {
     "base_uri": "https://localhost:8080/",
     "height": 377
    },
    "colab_type": "code",
    "id": "xxe5SYqTVwG1",
    "outputId": "5596f911-b7c1-44dd-a0e6-d3758d35f39a"
   },
   "outputs": [],
   "source": []
  },
  {
   "cell_type": "code",
   "execution_count": 1,
   "metadata": {},
   "outputs": [
    {
     "name": "stderr",
     "output_type": "stream",
     "text": [
      "Using TensorFlow backend.\n"
     ]
    },
    {
     "name": "stdout",
     "output_type": "stream",
     "text": [
      "============================================================\n",
      " RNN for demographic features          Muratova Anna        \n",
      "============================================================\n",
      "Input data shape = (310, 5)\n"
     ]
    },
    {
     "name": "stderr",
     "output_type": "stream",
     "text": [
      "/anaconda3/lib/python3.7/site-packages/ipykernel_launcher.py:29: FutureWarning: Method .as_matrix will be removed in a future version. Use .values instead.\n",
      "/anaconda3/lib/python3.7/site-packages/ipykernel_launcher.py:30: FutureWarning: Method .as_matrix will be removed in a future version. Use .values instead.\n"
     ]
    },
    {
     "ename": "IndexError",
     "evalue": "index 6 is out of bounds for axis 1 with size 5",
     "output_type": "error",
     "traceback": [
      "\u001b[0;31m---------------------------------------------------------------------------\u001b[0m",
      "\u001b[0;31mIndexError\u001b[0m                                Traceback (most recent call last)",
      "\u001b[0;32m<ipython-input-1-8d2907766e39>\u001b[0m in \u001b[0;36m<module>\u001b[0;34m\u001b[0m\n\u001b[1;32m     28\u001b[0m \u001b[0;34m\u001b[0m\u001b[0m\n\u001b[1;32m     29\u001b[0m \u001b[0mx\u001b[0m \u001b[0;34m=\u001b[0m \u001b[0mdf\u001b[0m\u001b[0;34m.\u001b[0m\u001b[0mas_matrix\u001b[0m\u001b[0;34m(\u001b[0m\u001b[0;34m)\u001b[0m\u001b[0;34m[\u001b[0m\u001b[0;34m:\u001b[0m\u001b[0msize\u001b[0m\u001b[0;34m,\u001b[0m \u001b[0;36m0\u001b[0m\u001b[0;34m:\u001b[0m\u001b[0;36m6\u001b[0m\u001b[0;34m]\u001b[0m\u001b[0;34m\u001b[0m\u001b[0;34m\u001b[0m\u001b[0m\n\u001b[0;32m---> 30\u001b[0;31m \u001b[0my\u001b[0m \u001b[0;34m=\u001b[0m \u001b[0mdf\u001b[0m\u001b[0;34m.\u001b[0m\u001b[0mas_matrix\u001b[0m\u001b[0;34m(\u001b[0m\u001b[0;34m)\u001b[0m\u001b[0;34m[\u001b[0m\u001b[0;34m:\u001b[0m\u001b[0msize\u001b[0m\u001b[0;34m,\u001b[0m \u001b[0;36m6\u001b[0m\u001b[0;34m]\u001b[0m\u001b[0;34m\u001b[0m\u001b[0;34m\u001b[0m\u001b[0m\n\u001b[0m\u001b[1;32m     31\u001b[0m \u001b[0;32mdel\u001b[0m \u001b[0mdf\u001b[0m\u001b[0;34m\u001b[0m\u001b[0;34m\u001b[0m\u001b[0m\n\u001b[1;32m     32\u001b[0m \u001b[0;34m\u001b[0m\u001b[0m\n",
      "\u001b[0;31mIndexError\u001b[0m: index 6 is out of bounds for axis 1 with size 5"
     ]
    }
   ],
   "source": [
    "#!/usr/bin/env python2\n",
    "# -*- coding: utf-8 -*-\n",
    "import time\n",
    "import numpy as np\n",
    "import pandas as pd\n",
    "\n",
    "from sklearn.utils import shuffle\n",
    "\n",
    "from keras.backend import backend\n",
    "from keras.models import Sequential\n",
    "from keras.layers import Dense, LSTM, GRU, SimpleRNN, Dropout\n",
    "#from keras.layers.embeddings import Embedding\n",
    "\n",
    "print (\"============================================================\")\n",
    "print (\" RNN for demographic features          Muratova Anna        \")\n",
    "print (\"============================================================\")\n",
    "\n",
    "\n",
    "start_time = time.time()\n",
    "\n",
    "df = pd.read_excel(\"table.xlsx\")\n",
    "\n",
    "df.dropna(inplace = True)   # remove empty (NaN) lines\n",
    "df = shuffle(df, random_state=7)\n",
    "print (\"Input data shape =\", df.shape)\n",
    "size = df.shape[0]\n",
    "t = int(size * 0.8)         # train part size\n",
    "\n",
    "x = df.as_matrix()[:size, 0:6]\n",
    "y = df.as_matrix()[:size, 6] \n",
    "del df\n",
    "\n",
    "X = np.empty((x.shape[0], x.shape[1]), dtype='int32')\n",
    "\n",
    "for d in xrange(x.shape[1]):        \n",
    "    xs = list(set(x[:, d]))\n",
    "    if d == 0:\n",
    "        print (\"Number of unique sequences =\", len(xs), \"\\n\")\n",
    "    xd = {xs[i]: i for i in xrange(len(xs))}\n",
    "    for l in xrange(x.shape[0]):\n",
    "        X[l][d] = xd[x[l][d]]\n",
    "\n",
    "#X = StandardScaler().fit_transform(X)\n",
    "\n",
    "XF_train = X[0:t, 1:]           # features only\n",
    "XF_test  = X[t:size, 1:]\n",
    "#print XF_train[0:10]\n",
    "\n",
    "yn = np.empty((size), dtype='int32')\n",
    "\n",
    "ys = list(set(y[:]))\n",
    "yd = {ys[i]: i for i in xrange(len(ys))}\n",
    "for l in xrange(len(yn)):\n",
    "        yn[l] = yd[y[l]]\n",
    "\n",
    "\n",
    "y_train = yn[0:t]\n",
    "y_test  = yn[t:size]\n",
    "\n",
    "# all unique characters to the set\n",
    "events = set()\n",
    "for seq in x[:, 0]:\n",
    "    for event in seq:\n",
    "        events.add(event)\n",
    "\n",
    "events = list(events)\n",
    "#print events\n",
    "\n",
    "event_to_id = {t:i+1 for i,t in enumerate(events)}\n",
    "#print event_to_id\n",
    "\n",
    "max_seq_len = 8\n",
    "seq_events_numbered = np.zeros((x.shape[0], max_seq_len), dtype='int32')\n",
    "\n",
    "for i in xrange(seq_events_numbered.shape[0]):\n",
    "    for k in xrange(len(x[i][0])):\n",
    "        seq_events_numbered[i][k] = event_to_id[x[i][0][k]]\n",
    "\n",
    "S_train = seq_events_numbered[0:t, :]       # train sequences\n",
    "S_test  = seq_events_numbered[t:size, :]    # test  sequences\n",
    "\n",
    "\n",
    "print (\"Train features  data shape =\", XF_train.shape, y_train.shape)\n",
    "print( \"Test  features  data shape =\", XF_test.shape,  y_test.shape)\n",
    "print (\"\\nData preprocessing time, sec =  %0.2f\" % (time.time() - start_time))\n",
    "\n",
    "print (\"============================================================\")\n",
    "\n",
    "print (\"Keras backend =\", backend())\n",
    " \n",
    "time_01 = time.time()\n",
    "print (\"\\nRNN classification by features\" )\n",
    "\n",
    "features = Sequential()\n",
    "features.add(Dense(100, activation=\"sigmoid\", input_dim=5))\n",
    "features.add(Dropout(0.1))\n",
    "features.add(Dense(100, activation='sigmoid'))\n",
    "features.add(Dense(1, activation=\"sigmoid\"))\n",
    "features.compile(loss='binary_crossentropy', optimizer='adam', metrics=['accuracy'])\n",
    "features.fit(XF_train, y_train, epochs=400, batch_size=100)\n",
    "\n",
    "time_02 = time.time()\n",
    "score, acc = features.evaluate(XF_test, y_test, verbose=0)\n",
    "\n",
    "time_03 = time.time() \n"
   ]
  },
  {
   "cell_type": "code",
   "execution_count": null,
   "metadata": {},
   "outputs": [],
   "source": []
  },
  {
   "cell_type": "code",
   "execution_count": null,
   "metadata": {},
   "outputs": [],
   "source": []
  }
 ],
 "metadata": {
  "colab": {
   "include_colab_link": true,
   "name": "Raf.ipynb",
   "provenance": [],
   "version": "0.3.2"
  },
  "kernelspec": {
   "display_name": "Python 3",
   "language": "python",
   "name": "python3"
  },
  "language_info": {
   "codemirror_mode": {
    "name": "ipython",
    "version": 3
   },
   "file_extension": ".py",
   "mimetype": "text/x-python",
   "name": "python",
   "nbconvert_exporter": "python",
   "pygments_lexer": "ipython3",
   "version": "3.7.1"
  }
 },
 "nbformat": 4,
 "nbformat_minor": 1
}
