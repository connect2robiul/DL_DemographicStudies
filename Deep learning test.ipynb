{
 "cells": [
  {
   "cell_type": "code",
   "execution_count": 1,
   "metadata": {},
   "outputs": [
    {
     "name": "stderr",
     "output_type": "stream",
     "text": [
      "Using TensorFlow backend.\n"
     ]
    },
    {
     "name": "stdout",
     "output_type": "stream",
     "text": [
      "Loading data...\n",
      "Downloading data from https://s3.amazonaws.com/text-datasets/imdb.npz\n",
      "17465344/17464789 [==============================] - 13s 1us/step\n",
      "25000 train sequences\n",
      "25000 test sequences\n",
      "Pad sequences (samples x time)\n",
      "x_train shape: (25000, 80)\n",
      "x_test shape: (25000, 80)\n",
      "Build model...\n",
      "WARNING:tensorflow:From /anaconda3/lib/python3.7/site-packages/tensorflow/python/framework/op_def_library.py:263: colocate_with (from tensorflow.python.framework.ops) is deprecated and will be removed in a future version.\n",
      "Instructions for updating:\n",
      "Colocations handled automatically by placer.\n",
      "WARNING:tensorflow:From /anaconda3/lib/python3.7/site-packages/keras/backend/tensorflow_backend.py:3445: calling dropout (from tensorflow.python.ops.nn_ops) with keep_prob is deprecated and will be removed in a future version.\n",
      "Instructions for updating:\n",
      "Please use `rate` instead of `keep_prob`. Rate should be set to `rate = 1 - keep_prob`.\n",
      "Train...\n",
      "WARNING:tensorflow:From /anaconda3/lib/python3.7/site-packages/tensorflow/python/ops/math_ops.py:3066: to_int32 (from tensorflow.python.ops.math_ops) is deprecated and will be removed in a future version.\n",
      "Instructions for updating:\n",
      "Use tf.cast instead.\n",
      "Train on 25000 samples, validate on 25000 samples\n",
      "Epoch 1/15\n",
      "25000/25000 [==============================] - 131s 5ms/step - loss: 0.4576 - acc: 0.7871 - val_loss: 0.3798 - val_acc: 0.8347\n",
      "Epoch 2/15\n",
      "25000/25000 [==============================] - 124s 5ms/step - loss: 0.3057 - acc: 0.8741 - val_loss: 0.3767 - val_acc: 0.8326\n",
      "Epoch 3/15\n",
      "25000/25000 [==============================] - 123s 5ms/step - loss: 0.2188 - acc: 0.9142 - val_loss: 0.4259 - val_acc: 0.8300\n",
      "Epoch 4/15\n",
      "25000/25000 [==============================] - 173s 7ms/step - loss: 0.1544 - acc: 0.9441 - val_loss: 0.4442 - val_acc: 0.8287\n",
      "Epoch 5/15\n",
      "25000/25000 [==============================] - 133s 5ms/step - loss: 0.1072 - acc: 0.9613 - val_loss: 0.5646 - val_acc: 0.8247\n",
      "Epoch 6/15\n",
      "25000/25000 [==============================] - 146s 6ms/step - loss: 0.0802 - acc: 0.9718 - val_loss: 0.7234 - val_acc: 0.8169\n",
      "Epoch 7/15\n",
      "25000/25000 [==============================] - 151s 6ms/step - loss: 0.0559 - acc: 0.9808 - val_loss: 0.8953 - val_acc: 0.8109\n",
      "Epoch 8/15\n",
      "25000/25000 [==============================] - 150s 6ms/step - loss: 0.0456 - acc: 0.9849 - val_loss: 0.8425 - val_acc: 0.8172\n",
      "Epoch 9/15\n",
      "25000/25000 [==============================] - 167s 7ms/step - loss: 0.0333 - acc: 0.9888 - val_loss: 0.8864 - val_acc: 0.8145\n",
      "Epoch 10/15\n",
      "25000/25000 [==============================] - 149s 6ms/step - loss: 0.0200 - acc: 0.9938 - val_loss: 1.0846 - val_acc: 0.8132\n",
      "Epoch 11/15\n",
      "25000/25000 [==============================] - 145s 6ms/step - loss: 0.0180 - acc: 0.9942 - val_loss: 0.9483 - val_acc: 0.8122\n",
      "Epoch 12/15\n",
      "25000/25000 [==============================] - 154s 6ms/step - loss: 0.0155 - acc: 0.9956 - val_loss: 1.0459 - val_acc: 0.8110\n",
      "Epoch 13/15\n",
      "25000/25000 [==============================] - 171s 7ms/step - loss: 0.0150 - acc: 0.9952 - val_loss: 1.1299 - val_acc: 0.8104\n",
      "Epoch 14/15\n",
      "25000/25000 [==============================] - 178s 7ms/step - loss: 0.0110 - acc: 0.9966 - val_loss: 1.0357 - val_acc: 0.8106\n",
      "Epoch 15/15\n",
      "25000/25000 [==============================] - 174s 7ms/step - loss: 0.0110 - acc: 0.9968 - val_loss: 1.0860 - val_acc: 0.8108\n",
      "25000/25000 [==============================] - 23s 908us/step\n",
      "Test score: 1.0860301276284456\n",
      "Test accuracy: 0.81084\n"
     ]
    }
   ],
   "source": [
    "# This model training code is directly from:\n",
    "# https://github.com/keras-team/keras/blob/master/examples/imdb_lstm.py\n",
    "\n",
    "'''Trains an LSTM model on the IMDB sentiment classification task.\n",
    "The dataset is actually too small for LSTM to be of any advantage\n",
    "compared to simpler, much faster methods such as TF-IDF + LogReg.\n",
    "# Notes\n",
    "- RNNs are tricky. Choice of batch size is important,\n",
    "choice of loss and optimizer is critical, etc.\n",
    "Some configurations won't converge.\n",
    "- LSTM loss decrease patterns during training can be quite different\n",
    "from what you see with CNNs/MLPs/etc.\n",
    "'''\n",
    "from __future__ import print_function\n",
    "\n",
    "from keras.preprocessing import sequence\n",
    "from keras.models import Sequential\n",
    "from keras.layers import Dense, Embedding\n",
    "from keras.layers import LSTM\n",
    "from keras.datasets import imdb\n",
    "\n",
    "max_features = 20000\n",
    "maxlen = 80  # cut texts after this number of words (among top max_features most common words)\n",
    "batch_size = 32\n",
    "\n",
    "print('Loading data...')\n",
    "(x_train, y_train), (x_test, y_test) = imdb.load_data(num_words=max_features)\n",
    "print(len(x_train), 'train sequences')\n",
    "print(len(x_test), 'test sequences')\n",
    "\n",
    "print('Pad sequences (samples x time)')\n",
    "x_train = sequence.pad_sequences(x_train, maxlen=maxlen)\n",
    "x_test = sequence.pad_sequences(x_test, maxlen=maxlen)\n",
    "print('x_train shape:', x_train.shape)\n",
    "print('x_test shape:', x_test.shape)\n",
    "\n",
    "print('Build model...')\n",
    "model = Sequential()\n",
    "model.add(Embedding(max_features, 128))\n",
    "model.add(LSTM(128, dropout=0.2, recurrent_dropout=0.2))\n",
    "model.add(Dense(1, activation='sigmoid'))\n",
    "\n",
    "# try using different optimizers and different optimizer configs\n",
    "model.compile(loss='binary_crossentropy',\n",
    "              optimizer='adam',\n",
    "              metrics=['accuracy'])\n",
    "\n",
    "print('Train...')\n",
    "model.fit(x_train, y_train,\n",
    "          batch_size=batch_size,\n",
    "          epochs=15,\n",
    "          validation_data=(x_test, y_test))\n",
    "score, acc = model.evaluate(x_test, y_test,\n",
    "                            batch_size=batch_size)\n",
    "print('Test score:', score)\n",
    "print('Test accuracy:', acc)"
   ]
  },
  {
   "cell_type": "code",
   "execution_count": 6,
   "metadata": {},
   "outputs": [
    {
     "data": {
      "text/plain": [
       "(25000, 80)"
      ]
     },
     "execution_count": 6,
     "metadata": {},
     "output_type": "execute_result"
    }
   ],
   "source": [
    "x_train.shape"
   ]
  },
  {
   "cell_type": "code",
   "execution_count": 7,
   "metadata": {},
   "outputs": [
    {
     "data": {
      "text/plain": [
       "(25000, 80)"
      ]
     },
     "execution_count": 7,
     "metadata": {},
     "output_type": "execute_result"
    }
   ],
   "source": [
    "x_test.shape"
   ]
  },
  {
   "cell_type": "code",
   "execution_count": 8,
   "metadata": {},
   "outputs": [
    {
     "data": {
      "text/plain": [
       "((25000, 80), (25000,))"
      ]
     },
     "execution_count": 8,
     "metadata": {},
     "output_type": "execute_result"
    }
   ],
   "source": [
    "x_test.shape, y_test.shape"
   ]
  },
  {
   "cell_type": "code",
   "execution_count": null,
   "metadata": {},
   "outputs": [],
   "source": []
  }
 ],
 "metadata": {
  "kernelspec": {
   "display_name": "Python 3",
   "language": "python",
   "name": "python3"
  },
  "language_info": {
   "codemirror_mode": {
    "name": "ipython",
    "version": 3
   },
   "file_extension": ".py",
   "mimetype": "text/x-python",
   "name": "python",
   "nbconvert_exporter": "python",
   "pygments_lexer": "ipython3",
   "version": "3.7.1"
  }
 },
 "nbformat": 4,
 "nbformat_minor": 2
}
